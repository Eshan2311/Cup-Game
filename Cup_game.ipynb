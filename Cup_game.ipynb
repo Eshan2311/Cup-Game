{
 "cells": [
  {
   "cell_type": "markdown",
   "metadata": {},
   "source": [
    "# The Simple Game"
   ]
  },
  {
   "cell_type": "markdown",
   "metadata": {},
   "source": [
    "Its a simple game where you have to guess where the 'O' is, among the three indexes ['0','1','2']."
   ]
  },
  {
   "cell_type": "code",
   "execution_count": 6,
   "metadata": {},
   "outputs": [],
   "source": [
    "from random import shuffle"
   ]
  },
  {
   "cell_type": "markdown",
   "metadata": {},
   "source": [
    "# Creating the function"
   ]
  },
  {
   "cell_type": "code",
   "execution_count": 10,
   "metadata": {},
   "outputs": [],
   "source": [
    "#creating the shuffle function , to return the the shuffled list\n",
    "def shuffle_list(mylist):\n",
    "    shuffle(mylist)\n",
    "    return mylist\n",
    "\n",
    "\n",
    "#creating the guessing function for player\n",
    "def player_guess():\n",
    "    guess = ''\n",
    "    \n",
    "    while guess not in ['0','1','2']:\n",
    "        guess= input('pick any index from 0,1,2:')\n",
    "        \n",
    "        \n",
    "    return int(guess)\n",
    "    \n",
    "\n",
    "#creating the checking function which will check the guess\n",
    "def check_guess(mylist,guess):\n",
    "    \n",
    "    if mylist[guess] == 'O':\n",
    "        print('Correct Guess!')\n",
    "        \n",
    "    else:\n",
    "        print('Wrong! Better luck next time')\n",
    "        \n",
    "    print(mylist)"
   ]
  },
  {
   "cell_type": "markdown",
   "metadata": {},
   "source": [
    "# Running the game"
   ]
  },
  {
   "cell_type": "code",
   "execution_count": 17,
   "metadata": {},
   "outputs": [
    {
     "name": "stdout",
     "output_type": "stream",
     "text": [
      "pick any index from 0,1,2:0\n",
      "Correct Guess!\n",
      "['O', '', '']\n"
     ]
    }
   ],
   "source": [
    "#initial list\n",
    "mylist=['','O','']\n",
    "\n",
    "#shuffling the list\n",
    "mixedup_list=shuffle_list(mylist)\n",
    "\n",
    "#user guess\n",
    "guess=player_guess()\n",
    "\n",
    "#result\n",
    "check_guess(mixedup_list,guess)"
   ]
  },
  {
   "cell_type": "code",
   "execution_count": null,
   "metadata": {},
   "outputs": [],
   "source": []
  }
 ],
 "metadata": {
  "kernelspec": {
   "display_name": "Python 3",
   "language": "python",
   "name": "python3"
  },
  "language_info": {
   "codemirror_mode": {
    "name": "ipython",
    "version": 3
   },
   "file_extension": ".py",
   "mimetype": "text/x-python",
   "name": "python",
   "nbconvert_exporter": "python",
   "pygments_lexer": "ipython3",
   "version": "3.8.3"
  }
 },
 "nbformat": 4,
 "nbformat_minor": 4
}
